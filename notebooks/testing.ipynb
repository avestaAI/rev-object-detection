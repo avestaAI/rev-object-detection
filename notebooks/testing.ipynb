{
 "cells": [
  {
   "cell_type": "code",
   "execution_count": 1,
   "metadata": {},
   "outputs": [
    {
     "name": "stderr",
     "output_type": "stream",
     "text": [
      "/tmp/ipykernel_8033/4080736814.py:1: DeprecationWarning: \n",
      "Pyarrow will become a required dependency of pandas in the next major release of pandas (pandas 3.0),\n",
      "(to allow more performant data types, such as the Arrow string type, and better interoperability with other libraries)\n",
      "but was not found to be installed on your system.\n",
      "If this would cause problems for you,\n",
      "please provide us feedback at https://github.com/pandas-dev/pandas/issues/54466\n",
      "        \n",
      "  import pandas as pd\n"
     ]
    }
   ],
   "source": [
    "import pandas as pd"
   ]
  },
  {
   "cell_type": "code",
   "execution_count": 2,
   "metadata": {},
   "outputs": [],
   "source": [
    "def load_csv(csv_path):\n",
    "    data_df = pd.read_csv(csv_path)\n",
    "    return data_df"
   ]
  },
  {
   "cell_type": "code",
   "execution_count": 3,
   "metadata": {},
   "outputs": [
    {
     "data": {
      "text/html": [
       "<div>\n",
       "<style scoped>\n",
       "    .dataframe tbody tr th:only-of-type {\n",
       "        vertical-align: middle;\n",
       "    }\n",
       "\n",
       "    .dataframe tbody tr th {\n",
       "        vertical-align: top;\n",
       "    }\n",
       "\n",
       "    .dataframe thead th {\n",
       "        text-align: right;\n",
       "    }\n",
       "</style>\n",
       "<table border=\"1\" class=\"dataframe\">\n",
       "  <thead>\n",
       "    <tr style=\"text-align: right;\">\n",
       "      <th></th>\n",
       "      <th>listingImageId</th>\n",
       "      <th>listingId</th>\n",
       "      <th>suburbName</th>\n",
       "      <th>state</th>\n",
       "      <th>suburbId</th>\n",
       "      <th>imageLink</th>\n",
       "    </tr>\n",
       "  </thead>\n",
       "  <tbody>\n",
       "    <tr>\n",
       "      <th>0</th>\n",
       "      <td>158649238</td>\n",
       "      <td>15385009</td>\n",
       "      <td>GRIFFITH</td>\n",
       "      <td>ACT</td>\n",
       "      <td>1996</td>\n",
       "      <td>pics/009/15385009-1-F04DAED.jpg</td>\n",
       "    </tr>\n",
       "    <tr>\n",
       "      <th>1</th>\n",
       "      <td>158649239</td>\n",
       "      <td>15385009</td>\n",
       "      <td>GRIFFITH</td>\n",
       "      <td>ACT</td>\n",
       "      <td>1996</td>\n",
       "      <td>pics/009/15385009-2-981E301.jpg</td>\n",
       "    </tr>\n",
       "    <tr>\n",
       "      <th>2</th>\n",
       "      <td>158649240</td>\n",
       "      <td>15385009</td>\n",
       "      <td>GRIFFITH</td>\n",
       "      <td>ACT</td>\n",
       "      <td>1996</td>\n",
       "      <td>pics/009/15385009-3-37ED883.jpg</td>\n",
       "    </tr>\n",
       "    <tr>\n",
       "      <th>3</th>\n",
       "      <td>158649241</td>\n",
       "      <td>15385009</td>\n",
       "      <td>GRIFFITH</td>\n",
       "      <td>ACT</td>\n",
       "      <td>1996</td>\n",
       "      <td>pics/009/15385009-4-DB8E63C.jpg</td>\n",
       "    </tr>\n",
       "    <tr>\n",
       "      <th>4</th>\n",
       "      <td>158649242</td>\n",
       "      <td>15385009</td>\n",
       "      <td>GRIFFITH</td>\n",
       "      <td>ACT</td>\n",
       "      <td>1996</td>\n",
       "      <td>pics/009/15385009-5-B8CDE9A.jpg</td>\n",
       "    </tr>\n",
       "    <tr>\n",
       "      <th>...</th>\n",
       "      <td>...</td>\n",
       "      <td>...</td>\n",
       "      <td>...</td>\n",
       "      <td>...</td>\n",
       "      <td>...</td>\n",
       "      <td>...</td>\n",
       "    </tr>\n",
       "    <tr>\n",
       "      <th>16484</th>\n",
       "      <td>158499471</td>\n",
       "      <td>15375609</td>\n",
       "      <td>SANCTUARY COVE</td>\n",
       "      <td>QLD</td>\n",
       "      <td>17223</td>\n",
       "      <td>pics/609/15375609-14-A843F8F.jpg</td>\n",
       "    </tr>\n",
       "    <tr>\n",
       "      <th>16485</th>\n",
       "      <td>158499472</td>\n",
       "      <td>15375609</td>\n",
       "      <td>SANCTUARY COVE</td>\n",
       "      <td>QLD</td>\n",
       "      <td>17223</td>\n",
       "      <td>pics/609/15375609-15-0D7F791.png</td>\n",
       "    </tr>\n",
       "    <tr>\n",
       "      <th>16486</th>\n",
       "      <td>158499473</td>\n",
       "      <td>15375609</td>\n",
       "      <td>SANCTUARY COVE</td>\n",
       "      <td>QLD</td>\n",
       "      <td>17223</td>\n",
       "      <td>pics/609/15375609-16-9303D50.png</td>\n",
       "    </tr>\n",
       "    <tr>\n",
       "      <th>16487</th>\n",
       "      <td>158499474</td>\n",
       "      <td>15375609</td>\n",
       "      <td>SANCTUARY COVE</td>\n",
       "      <td>QLD</td>\n",
       "      <td>17223</td>\n",
       "      <td>pics/609/15375609-17-880316C.png</td>\n",
       "    </tr>\n",
       "    <tr>\n",
       "      <th>16488</th>\n",
       "      <td>158499475</td>\n",
       "      <td>15375609</td>\n",
       "      <td>SANCTUARY COVE</td>\n",
       "      <td>QLD</td>\n",
       "      <td>17223</td>\n",
       "      <td>pics/609/15375609-18-EE84785.jpg</td>\n",
       "    </tr>\n",
       "  </tbody>\n",
       "</table>\n",
       "<p>16489 rows × 6 columns</p>\n",
       "</div>"
      ],
      "text/plain": [
       "       listingImageId  listingId      suburbName state  suburbId  \\\n",
       "0           158649238   15385009        GRIFFITH   ACT      1996   \n",
       "1           158649239   15385009        GRIFFITH   ACT      1996   \n",
       "2           158649240   15385009        GRIFFITH   ACT      1996   \n",
       "3           158649241   15385009        GRIFFITH   ACT      1996   \n",
       "4           158649242   15385009        GRIFFITH   ACT      1996   \n",
       "...               ...        ...             ...   ...       ...   \n",
       "16484       158499471   15375609  SANCTUARY COVE   QLD     17223   \n",
       "16485       158499472   15375609  SANCTUARY COVE   QLD     17223   \n",
       "16486       158499473   15375609  SANCTUARY COVE   QLD     17223   \n",
       "16487       158499474   15375609  SANCTUARY COVE   QLD     17223   \n",
       "16488       158499475   15375609  SANCTUARY COVE   QLD     17223   \n",
       "\n",
       "                              imageLink  \n",
       "0       pics/009/15385009-1-F04DAED.jpg  \n",
       "1       pics/009/15385009-2-981E301.jpg  \n",
       "2       pics/009/15385009-3-37ED883.jpg  \n",
       "3       pics/009/15385009-4-DB8E63C.jpg  \n",
       "4       pics/009/15385009-5-B8CDE9A.jpg  \n",
       "...                                 ...  \n",
       "16484  pics/609/15375609-14-A843F8F.jpg  \n",
       "16485  pics/609/15375609-15-0D7F791.png  \n",
       "16486  pics/609/15375609-16-9303D50.png  \n",
       "16487  pics/609/15375609-17-880316C.png  \n",
       "16488  pics/609/15375609-18-EE84785.jpg  \n",
       "\n",
       "[16489 rows x 6 columns]"
      ]
     },
     "execution_count": 3,
     "metadata": {},
     "output_type": "execute_result"
    }
   ],
   "source": [
    "df = load_csv(\"../listings_images.csv\")\n",
    "df"
   ]
  },
  {
   "cell_type": "code",
   "execution_count": 4,
   "metadata": {},
   "outputs": [],
   "source": [
    "def create_link(link):\n",
    "    base_link = \"https://resi.stgz.view.com.au/viewstatic/images/listing/acw/800-w/\"\n",
    "    edited_link = link.split(\"/\")\n",
    "    return base_link + edited_link[2]"
   ]
  },
  {
   "cell_type": "code",
   "execution_count": 5,
   "metadata": {},
   "outputs": [],
   "source": [
    "def load_raw_data(df):\n",
    "    data_dict = []\n",
    "\n",
    "    for index, row in df.iterrows():\n",
    "        row_dict = row.to_dict()\n",
    "\n",
    "        edited_link = create_link(row_dict[\"imageLink\"])\n",
    "        row_dict[\"imageLink\"] = edited_link\n",
    "        data_dict.append(row_dict)\n",
    "\n",
    "    return data_dict\n"
   ]
  },
  {
   "cell_type": "code",
   "execution_count": 6,
   "metadata": {},
   "outputs": [],
   "source": [
    "data_dict = load_raw_data(df)"
   ]
  },
  {
   "cell_type": "code",
   "execution_count": 7,
   "metadata": {},
   "outputs": [
    {
     "data": {
      "text/plain": [
       "[{'listingImageId': 158649238,\n",
       "  'listingId': 15385009,\n",
       "  'suburbName': 'GRIFFITH',\n",
       "  'state': 'ACT',\n",
       "  'suburbId': 1996,\n",
       "  'imageLink': 'https://resi.stgz.view.com.au/viewstatic/images/listing/acw/800-w/15385009-1-F04DAED.jpg'},\n",
       " {'listingImageId': 158649239,\n",
       "  'listingId': 15385009,\n",
       "  'suburbName': 'GRIFFITH',\n",
       "  'state': 'ACT',\n",
       "  'suburbId': 1996,\n",
       "  'imageLink': 'https://resi.stgz.view.com.au/viewstatic/images/listing/acw/800-w/15385009-2-981E301.jpg'},\n",
       " {'listingImageId': 158649240,\n",
       "  'listingId': 15385009,\n",
       "  'suburbName': 'GRIFFITH',\n",
       "  'state': 'ACT',\n",
       "  'suburbId': 1996,\n",
       "  'imageLink': 'https://resi.stgz.view.com.au/viewstatic/images/listing/acw/800-w/15385009-3-37ED883.jpg'},\n",
       " {'listingImageId': 158649241,\n",
       "  'listingId': 15385009,\n",
       "  'suburbName': 'GRIFFITH',\n",
       "  'state': 'ACT',\n",
       "  'suburbId': 1996,\n",
       "  'imageLink': 'https://resi.stgz.view.com.au/viewstatic/images/listing/acw/800-w/15385009-4-DB8E63C.jpg'},\n",
       " {'listingImageId': 158649242,\n",
       "  'listingId': 15385009,\n",
       "  'suburbName': 'GRIFFITH',\n",
       "  'state': 'ACT',\n",
       "  'suburbId': 1996,\n",
       "  'imageLink': 'https://resi.stgz.view.com.au/viewstatic/images/listing/acw/800-w/15385009-5-B8CDE9A.jpg'}]"
      ]
     },
     "execution_count": 7,
     "metadata": {},
     "output_type": "execute_result"
    }
   ],
   "source": [
    "data_dict[:5]"
   ]
  },
  {
   "cell_type": "code",
   "execution_count": 8,
   "metadata": {},
   "outputs": [],
   "source": [
    "import requests as req\n",
    "import io\n",
    "from PIL import Image\n",
    "import numpy as np\n",
    "import torch"
   ]
  },
  {
   "cell_type": "code",
   "execution_count": 9,
   "metadata": {},
   "outputs": [],
   "source": [
    "def download_image(image_link):\n",
    "\n",
    "    try:\n",
    "        image_content = req.get(image_link, timeout = 10).content\n",
    "        image_file = io.BytesIO(image_content)\n",
    "        pil_image = Image.open(image_file)\n",
    "        print(\"downloaded\")\n",
    "    except Exception as e:\n",
    "        print(\"An error occurred while downloading the image!\", e)\n",
    "\n",
    "    return pil_image\n"
   ]
  },
  {
   "cell_type": "code",
   "execution_count": 10,
   "metadata": {},
   "outputs": [
    {
     "name": "stderr",
     "output_type": "stream",
     "text": [
      "YOLOv5 🚀 v7.0-216-gec690e4 Python-3.10.12 torch-2.2.0+cpu CPU\n",
      "\n",
      "Fusing layers... \n",
      "Model summary: 157 layers, 7053277 parameters, 0 gradients, 15.9 GFLOPs\n",
      "Adding AutoShape... \n"
     ]
    }
   ],
   "source": [
    "model = torch.hub.load('../models/yolov5','custom', path=\"../models/yolov5/runs/train/exp5/weights/best.pt\", source=\"local\")"
   ]
  },
  {
   "cell_type": "code",
   "execution_count": 11,
   "metadata": {},
   "outputs": [],
   "source": [
    "def infer(image):\n",
    "    results = model(image)\n",
    "    return eval(results.pandas().xyxy[0].to_json(orient='records'))"
   ]
  },
  {
   "cell_type": "code",
   "execution_count": 18,
   "metadata": {},
   "outputs": [],
   "source": [
    "def splitting(image,data):\n",
    "    path = \"../data/interrim\"\n",
    "    if len(data['prediction']) == 0:\n",
    "        return \n",
    "    elif len(data['prediction']) == 1:\n",
    "        try:\n",
    "            category = data['prediction'][0]['name']\n",
    "            image_name = f\"{category}_{data['listingImageId']}.png\"\n",
    "            with open(f\"{path}/{category}/{image_name}\", 'wb') as f:\n",
    "                image.save(f)\n",
    "            print(f\"{image_name} donwloaded at {path}/{category}\")\n",
    "        except Exception as e:\n",
    "            print(f\"error while saving image : {e}\")\n",
    "    else:\n",
    "        try:\n",
    "            folder_name = \"mix\"\n",
    "            category = \"_\".join([i['name'] for i in data['prediction']])\n",
    "            image_name = f\"{category}_{data['listingImageId']}.png\"\n",
    "            with open(f\"{path}/{folder_name}/{image_name}\",'wb') as f:\n",
    "                image.save(f)\n",
    "            print(f\"{image_name} donwloaded at {path}/{folder_name}\")\n",
    "        except Exception as e:\n",
    "            print(f\"error while saving image : {e}\")\n",
    "            \n",
    "\n"
   ]
  },
  {
   "cell_type": "code",
   "execution_count": 19,
   "metadata": {},
   "outputs": [],
   "source": [
    "def download_and_infer(data_dict):\n",
    "        \n",
    "    index = 0\n",
    "    while index < len(data_dict):\n",
    "        print(f\"index : {index}\")\n",
    "        image_link = data_dict[index]['imageLink']\n",
    "        image = download_image(image_link)\n",
    "        print(image.getbands())\n",
    "\n",
    "        if len(image.getbands()) <= 3:\n",
    "            results = infer(image)\n",
    "            data_dict[index]['prediction'] = results\n",
    "\n",
    "            try:\n",
    "                file_path = '../data/interrim/all'\n",
    "                with open(f\"{file_path}/{data_dict[index]['listingImageId']}.png\", \"wb\") as f:\n",
    "                    image.save(f)\n",
    "                print(f\"Downloaded: {data_dict[index]['listingImageId']}.png\")\n",
    "            except Exception as e:\n",
    "                print(f\"Error while saving the image : {e}\")\n",
    "            \n",
    "            splitting(image,data_dict[index])\n",
    "        \n",
    "        else:\n",
    "            print(\"An image with alpha channel found, hence discarding it!\")\n",
    "            data_dict.pop(index)\n",
    "            continue\n",
    "        index += 1\n",
    "    \n",
    "    print(data_dict)\n",
    "        \n"
   ]
  },
  {
   "cell_type": "code",
   "execution_count": 20,
   "metadata": {},
   "outputs": [],
   "source": [
    "test = [{'listingImageId': 158649238,\n",
    "  'listingId': 15385009,\n",
    "  'suburbName': 'GRIFFITH',\n",
    "  'state': 'ACT',\n",
    "  'suburbId': 1996,\n",
    "  'imageLink': 'https://resi.stgz.view.com.au/viewstatic/images/listing/acw/800-w/15385009-1-F04DAED.jpg'},\n",
    " {'listingImageId': 158649239,\n",
    "  'listingId': 15385009,\n",
    "  'suburbName': 'GRIFFITH',\n",
    "  'state': 'ACT',\n",
    "  'suburbId': 1996,\n",
    "  'imageLink': 'https://resi.stgz.view.com.au/viewstatic/images/listing/acw/800-w/15385009-2-981E301.jpg'},\n",
    " {'listingImageId': 158649240,\n",
    "  'listingId': 15385009,\n",
    "  'suburbName': 'GRIFFITH',\n",
    "  'state': 'ACT',\n",
    "  'suburbId': 1996,\n",
    "  'imageLink': 'https://images.samsung.com/is/image/samsung/p6pim/in/2307/gallery/in-galaxy-watch6-r935-sm-r930nzeains-thumb-537406388'},\n",
    " {'listingImageId': 158649241,\n",
    "  'listingId': 15385009,\n",
    "  'suburbName': 'GRIFFITH',\n",
    "  'state': 'ACT',\n",
    "  'suburbId': 1996,\n",
    "  'imageLink': 'https://resi.stgz.view.com.au/viewstatic/images/listing/acw/800-w/15385009-4-DB8E63C.jpg'},\n",
    " {'listingImageId': 158649242,\n",
    "  'listingId': 15385009,\n",
    "  'suburbName': 'GRIFFITH',\n",
    "  'state': 'ACT',\n",
    "  'suburbId': 1996,\n",
    "  'imageLink': 'https://resi.stgz.view.com.au/viewstatic/images/listing/acw/800-w/15385009-5-B8CDE9A.jpg'}]"
   ]
  },
  {
   "cell_type": "code",
   "execution_count": 21,
   "metadata": {},
   "outputs": [
    {
     "name": "stdout",
     "output_type": "stream",
     "text": [
      "index : 0\n",
      "downloaded\n",
      "('R', 'G', 'B')\n",
      "Downloaded: 158649329.png\n",
      "living_room_158649329.png donwloaded at ../data/interrim/living_room\n",
      "index : 1\n",
      "downloaded\n",
      "('R', 'G', 'B')\n",
      "Downloaded: 158649330.png\n",
      "balcony_living_room_158649330.png donwloaded at ../data/interrim/mix\n",
      "index : 2\n",
      "downloaded\n",
      "('R', 'G', 'B')\n",
      "Downloaded: 158649331.png\n",
      "living_room_158649331.png donwloaded at ../data/interrim/living_room\n",
      "index : 3\n",
      "downloaded\n",
      "('R', 'G', 'B')\n",
      "Downloaded: 158649332.png\n",
      "kitchen_refrigerator_158649332.png donwloaded at ../data/interrim/mix\n",
      "index : 4\n",
      "downloaded\n",
      "('R', 'G', 'B')\n",
      "Downloaded: 158649333.png\n",
      "bedroom_158649333.png donwloaded at ../data/interrim/bedroom\n",
      "index : 5\n",
      "downloaded\n",
      "('R', 'G', 'B')\n",
      "Downloaded: 158649334.png\n",
      "bedroom_158649334.png donwloaded at ../data/interrim/bedroom\n",
      "index : 6\n",
      "downloaded\n",
      "('R', 'G', 'B')\n",
      "Downloaded: 158649335.png\n",
      "bedroom_living_room_158649335.png donwloaded at ../data/interrim/mix\n",
      "index : 7\n",
      "downloaded\n",
      "('R', 'G', 'B')\n",
      "Downloaded: 158649336.png\n",
      "error while saving image : [Errno 2] No such file or directory: '../data/interrim/bathroom/bathroom_158649336.png'\n",
      "index : 8\n",
      "downloaded\n",
      "('R', 'G', 'B')\n",
      "Downloaded: 158649342.png\n",
      "tennis_court_158649342.png donwloaded at ../data/interrim/tennis_court\n",
      "[{'listingImageId': 158649329, 'listingId': 15385013, 'suburbName': 'KINGSTON', 'state': 'ACT', 'suburbId': 2000, 'imageLink': 'https://resi.stgz.view.com.au/viewstatic/images/listing/acw/800-w/15385013-3-F3F9E6B.jpg', 'prediction': [{'xmin': 2.6737213135, 'ymin': 9.6840705872, 'xmax': 800.0, 'ymax': 533.0, 'confidence': 0.8494495153, 'class': 10, 'name': 'living_room'}]}, {'listingImageId': 158649330, 'listingId': 15385013, 'suburbName': 'KINGSTON', 'state': 'ACT', 'suburbId': 2000, 'imageLink': 'https://resi.stgz.view.com.au/viewstatic/images/listing/acw/800-w/15385013-4-8868DAE.jpg', 'prediction': [{'xmin': 2.105984211, 'ymin': 2.0344359875, 'xmax': 789.3134765625, 'ymax': 1188.2946777344, 'confidence': 0.5686493516, 'class': 7, 'name': 'balcony'}, {'xmin': 0.0, 'ymin': 13.7048864365, 'xmax': 800.0, 'ymax': 1188.1163330078, 'confidence': 0.5239987373, 'class': 10, 'name': 'living_room'}]}, {'listingImageId': 158649331, 'listingId': 15385013, 'suburbName': 'KINGSTON', 'state': 'ACT', 'suburbId': 2000, 'imageLink': 'https://resi.stgz.view.com.au/viewstatic/images/listing/acw/800-w/15385013-5-94136F2.jpg', 'prediction': [{'xmin': 1.2804794312, 'ymin': 8.579334259, 'xmax': 800.0, 'ymax': 530.1810913086, 'confidence': 0.7827396393, 'class': 10, 'name': 'living_room'}]}, {'listingImageId': 158649332, 'listingId': 15385013, 'suburbName': 'KINGSTON', 'state': 'ACT', 'suburbId': 2000, 'imageLink': 'https://resi.stgz.view.com.au/viewstatic/images/listing/acw/800-w/15385013-6-A7A0C93.jpg', 'prediction': [{'xmin': 33.6485290527, 'ymin': 13.0583877563, 'xmax': 800.0, 'ymax': 525.7852172852, 'confidence': 0.7523887753, 'class': 9, 'name': 'kitchen'}, {'xmin': 0.5857563019, 'ymin': 10.5027313232, 'xmax': 145.0434112549, 'ymax': 526.5321655273, 'confidence': 0.423155427, 'class': 13, 'name': 'refrigerator'}]}, {'listingImageId': 158649333, 'listingId': 15385013, 'suburbName': 'KINGSTON', 'state': 'ACT', 'suburbId': 2000, 'imageLink': 'https://resi.stgz.view.com.au/viewstatic/images/listing/acw/800-w/15385013-7-59615D5.jpg', 'prediction': [{'xmin': 7.3271942139, 'ymin': 8.5859985352, 'xmax': 797.4657592773, 'ymax': 530.3106689453, 'confidence': 0.9229834676, 'class': 6, 'name': 'bedroom'}]}, {'listingImageId': 158649334, 'listingId': 15385013, 'suburbName': 'KINGSTON', 'state': 'ACT', 'suburbId': 2000, 'imageLink': 'https://resi.stgz.view.com.au/viewstatic/images/listing/acw/800-w/15385013-8-BDEB123.jpg', 'prediction': [{'xmin': 0.0, 'ymin': 10.2880325317, 'xmax': 799.4512939453, 'ymax': 530.8828735352, 'confidence': 0.9385378957, 'class': 6, 'name': 'bedroom'}]}, {'listingImageId': 158649335, 'listingId': 15385013, 'suburbName': 'KINGSTON', 'state': 'ACT', 'suburbId': 2000, 'imageLink': 'https://resi.stgz.view.com.au/viewstatic/images/listing/acw/800-w/15385013-9-6F45E0D.jpg', 'prediction': [{'xmin': 0.0, 'ymin': 10.9288711548, 'xmax': 800.0, 'ymax': 529.3311157227, 'confidence': 0.5193294883, 'class': 6, 'name': 'bedroom'}, {'xmin': 0.2321243286, 'ymin': 6.9950795174, 'xmax': 800.0, 'ymax': 530.9325561523, 'confidence': 0.4381724, 'class': 10, 'name': 'living_room'}]}, {'listingImageId': 158649336, 'listingId': 15385013, 'suburbName': 'KINGSTON', 'state': 'ACT', 'suburbId': 2000, 'imageLink': 'https://resi.stgz.view.com.au/viewstatic/images/listing/acw/800-w/15385013-10-11F81D9.jpg', 'prediction': [{'xmin': 0.0, 'ymin': 4.748737812, 'xmax': 800.0, 'ymax': 517.3959350586, 'confidence': 0.8913587332, 'class': 5, 'name': 'bathroom'}]}, {'listingImageId': 158649342, 'listingId': 15385014, 'suburbName': 'KINGSTON', 'state': 'ACT', 'suburbId': 2000, 'imageLink': 'https://resi.stgz.view.com.au/viewstatic/images/listing/acw/800-w/15385014-1-44B3F7C.jpg', 'prediction': [{'xmin': 0.0, 'ymin': 0.0, 'xmax': 800.0, 'ymax': 525.7427368164, 'confidence': 0.7573770881, 'class': 15, 'name': 'tennis_court'}]}]\n"
     ]
    }
   ],
   "source": [
    "download_and_infer(data_dict[21:30])"
   ]
  },
  {
   "cell_type": "code",
   "execution_count": 2,
   "metadata": {},
   "outputs": [],
   "source": [
    "import os\n",
    "os.mkdir(\"./test\")\n"
   ]
  },
  {
   "cell_type": "code",
   "execution_count": 9,
   "metadata": {},
   "outputs": [
    {
     "name": "stdout",
     "output_type": "stream",
     "text": [
      "Downloaded!\n",
      "Downloaded!\n",
      "Downloaded!\n",
      "Connection Error! retrying\n",
      "Connection Error! retrying\n",
      "Connection Error! retrying\n",
      "Downloaded!\n",
      "Downloaded!\n"
     ]
    },
    {
     "ename": "KeyboardInterrupt",
     "evalue": "",
     "output_type": "error",
     "traceback": [
      "\u001b[0;31m---------------------------------------------------------------------------\u001b[0m",
      "\u001b[0;31mKeyboardInterrupt\u001b[0m                         Traceback (most recent call last)",
      "Cell \u001b[0;32mIn[9], line 9\u001b[0m\n\u001b[1;32m      7\u001b[0m     image_content \u001b[38;5;241m=\u001b[39m req\u001b[38;5;241m.\u001b[39mget(\u001b[38;5;124m\"\u001b[39m\u001b[38;5;124mhttps://www.alleycat.org/wp-content/uploads/2019/03/FELV-cat.jpg\u001b[39m\u001b[38;5;124m\"\u001b[39m, timeout \u001b[38;5;241m=\u001b[39m \u001b[38;5;241m10\u001b[39m)\u001b[38;5;241m.\u001b[39mcontent\n\u001b[1;32m      8\u001b[0m     \u001b[38;5;28mprint\u001b[39m(\u001b[38;5;124m\"\u001b[39m\u001b[38;5;124mDownloaded!\u001b[39m\u001b[38;5;124m\"\u001b[39m)\n\u001b[0;32m----> 9\u001b[0m     \u001b[43mtime\u001b[49m\u001b[38;5;241;43m.\u001b[39;49m\u001b[43msleep\u001b[49m\u001b[43m(\u001b[49m\u001b[38;5;241;43m4\u001b[39;49m\u001b[43m)\u001b[49m\n\u001b[1;32m     10\u001b[0m \u001b[38;5;28;01mexcept\u001b[39;00m \u001b[38;5;167;01mConnectionError\u001b[39;00m:\n\u001b[1;32m     11\u001b[0m     \u001b[38;5;28mprint\u001b[39m(\u001b[38;5;124m\"\u001b[39m\u001b[38;5;124mConnection Error! retrying\u001b[39m\u001b[38;5;124m\"\u001b[39m)\n",
      "\u001b[0;31mKeyboardInterrupt\u001b[0m: "
     ]
    }
   ],
   "source": [
    "import requests as req\n",
    "from requests.exceptions import ConnectionError\n",
    "from requests.exceptions import Timeout\n",
    "import time\n",
    "\n",
    "while True:\n",
    "    try:\n",
    "        image_content = req.get(\"https://www.alleycat.org/wp-content/uploads/2019/03/FELV-cat.jpg\", timeout = 10).content\n",
    "        print(\"Downloaded!\")\n",
    "        time.sleep(4)\n",
    "    except ConnectionError:\n",
    "        print(\"Connection Error! retrying\")\n",
    "        time.sleep(4)\n",
    "        continue\n",
    "    except Timeout:\n",
    "        print(\"Timeout\")"
   ]
  },
  {
   "cell_type": "code",
   "execution_count": null,
   "metadata": {},
   "outputs": [],
   "source": []
  }
 ],
 "metadata": {
  "kernelspec": {
   "display_name": ".venv",
   "language": "python",
   "name": "python3"
  },
  "language_info": {
   "codemirror_mode": {
    "name": "ipython",
    "version": 3
   },
   "file_extension": ".py",
   "mimetype": "text/x-python",
   "name": "python",
   "nbconvert_exporter": "python",
   "pygments_lexer": "ipython3",
   "version": "3.10.12"
  }
 },
 "nbformat": 4,
 "nbformat_minor": 2
}
